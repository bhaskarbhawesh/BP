{
  "cells": [
    {
      "cell_type": "markdown",
      "metadata": {
        "id": "view-in-github",
        "colab_type": "text"
      },
      "source": [
        "<a href=\"https://colab.research.google.com/github/bhaskarbhawesh/BP/blob/main/Stock_price_Prediction.ipynb\" target=\"_parent\"><img src=\"https://colab.research.google.com/assets/colab-badge.svg\" alt=\"Open In Colab\"/></a>"
      ]
    },
    {
      "cell_type": "code",
      "execution_count": null,
      "metadata": {
        "colab": {
          "base_uri": "https://localhost:8080/"
        },
        "id": "Pu3BL7e11E8y",
        "outputId": "399491bf-c2a9-44f0-ad7d-621b5134cf4e"
      },
      "outputs": [
        {
          "name": "stdout",
          "output_type": "stream",
          "text": [
            "Requirement already satisfied: yfinance in /usr/local/lib/python3.11/dist-packages (0.2.61)\n",
            "Requirement already satisfied: scikit-learn in /usr/local/lib/python3.11/dist-packages (1.6.1)\n",
            "Requirement already satisfied: numpy in /usr/local/lib/python3.11/dist-packages (2.0.2)\n",
            "Requirement already satisfied: pandas>=1.3.0 in /usr/local/lib/python3.11/dist-packages (from yfinance) (2.2.2)\n",
            "Requirement already satisfied: requests>=2.31 in /usr/local/lib/python3.11/dist-packages (from yfinance) (2.32.3)\n",
            "Requirement already satisfied: multitasking>=0.0.7 in /usr/local/lib/python3.11/dist-packages (from yfinance) (0.0.11)\n",
            "Requirement already satisfied: platformdirs>=2.0.0 in /usr/local/lib/python3.11/dist-packages (from yfinance) (4.3.8)\n",
            "Requirement already satisfied: pytz>=2022.5 in /usr/local/lib/python3.11/dist-packages (from yfinance) (2025.2)\n",
            "Requirement already satisfied: frozendict>=2.3.4 in /usr/local/lib/python3.11/dist-packages (from yfinance) (2.4.6)\n",
            "Requirement already satisfied: peewee>=3.16.2 in /usr/local/lib/python3.11/dist-packages (from yfinance) (3.18.1)\n",
            "Requirement already satisfied: beautifulsoup4>=4.11.1 in /usr/local/lib/python3.11/dist-packages (from yfinance) (4.13.4)\n",
            "Requirement already satisfied: curl_cffi>=0.7 in /usr/local/lib/python3.11/dist-packages (from yfinance) (0.11.1)\n",
            "Requirement already satisfied: protobuf>=3.19.0 in /usr/local/lib/python3.11/dist-packages (from yfinance) (5.29.5)\n",
            "Requirement already satisfied: websockets>=13.0 in /usr/local/lib/python3.11/dist-packages (from yfinance) (15.0.1)\n",
            "Requirement already satisfied: scipy>=1.6.0 in /usr/local/lib/python3.11/dist-packages (from scikit-learn) (1.15.3)\n",
            "Requirement already satisfied: joblib>=1.2.0 in /usr/local/lib/python3.11/dist-packages (from scikit-learn) (1.5.1)\n",
            "Requirement already satisfied: threadpoolctl>=3.1.0 in /usr/local/lib/python3.11/dist-packages (from scikit-learn) (3.6.0)\n",
            "Requirement already satisfied: soupsieve>1.2 in /usr/local/lib/python3.11/dist-packages (from beautifulsoup4>=4.11.1->yfinance) (2.7)\n",
            "Requirement already satisfied: typing-extensions>=4.0.0 in /usr/local/lib/python3.11/dist-packages (from beautifulsoup4>=4.11.1->yfinance) (4.14.0)\n",
            "Requirement already satisfied: cffi>=1.12.0 in /usr/local/lib/python3.11/dist-packages (from curl_cffi>=0.7->yfinance) (1.17.1)\n",
            "Requirement already satisfied: certifi>=2024.2.2 in /usr/local/lib/python3.11/dist-packages (from curl_cffi>=0.7->yfinance) (2025.4.26)\n",
            "Requirement already satisfied: python-dateutil>=2.8.2 in /usr/local/lib/python3.11/dist-packages (from pandas>=1.3.0->yfinance) (2.9.0.post0)\n",
            "Requirement already satisfied: tzdata>=2022.7 in /usr/local/lib/python3.11/dist-packages (from pandas>=1.3.0->yfinance) (2025.2)\n",
            "Requirement already satisfied: charset-normalizer<4,>=2 in /usr/local/lib/python3.11/dist-packages (from requests>=2.31->yfinance) (3.4.2)\n",
            "Requirement already satisfied: idna<4,>=2.5 in /usr/local/lib/python3.11/dist-packages (from requests>=2.31->yfinance) (3.10)\n",
            "Requirement already satisfied: urllib3<3,>=1.21.1 in /usr/local/lib/python3.11/dist-packages (from requests>=2.31->yfinance) (2.4.0)\n",
            "Requirement already satisfied: pycparser in /usr/local/lib/python3.11/dist-packages (from cffi>=1.12.0->curl_cffi>=0.7->yfinance) (2.22)\n",
            "Requirement already satisfied: six>=1.5 in /usr/local/lib/python3.11/dist-packages (from python-dateutil>=2.8.2->pandas>=1.3.0->yfinance) (1.17.0)\n"
          ]
        }
      ],
      "source": [
        "pip install yfinance scikit-learn numpy"
      ]
    },
    {
      "cell_type": "code",
      "execution_count": null,
      "metadata": {
        "colab": {
          "background_save": true,
          "base_uri": "https://localhost:8080/"
        },
        "id": "c8qPycpg7SHJ",
        "outputId": "70cf699d-77c2-4e66-d87a-a3b410252602"
      },
      "outputs": [
        {
          "name": "stdout",
          "output_type": "stream",
          "text": [
            "Fetching data for TCS.NS...\n",
            "YF.download() has changed argument auto_adjust default to True\n"
          ]
        },
        {
          "name": "stderr",
          "output_type": "stream",
          "text": [
            "\r[*********************100%***********************]  1 of 1 completed\n",
            "<ipython-input-2-db98da6d0b61>:38: FutureWarning: Calling float on a single element Series is deprecated and will raise a TypeError in the future. Use float(ser.iloc[0]) instead\n",
            "  current_price = float(data['Close'].iloc[-1])\n",
            "<ipython-input-2-db98da6d0b61>:25: DeprecationWarning: Conversion of an array with ndim > 0 to a scalar is deprecated, and will error in future. Ensure you extract a single element from your array before performing this operation. (Deprecated NumPy 1.25.)\n",
            "  return float(predicted_price[0])\n"
          ]
        },
        {
          "name": "stdout",
          "output_type": "stream",
          "text": [
            "Current closing price for TCS.NS on 06-06-2025 is: ₹3384.20\n",
            "Predicted closing price for TCS.NS on 07-06-2025 is: ₹3539.79\n"
          ]
        }
      ],
      "source": [
        "import yfinance as yf\n",
        "import numpy as np\n",
        "from sklearn.linear_model import LinearRegression\n",
        "import datetime\n",
        "\n",
        "def get_stock_data(ticker):\n",
        "    data = yf.download(ticker, period=\"1y\")\n",
        "    return data\n",
        "\n",
        "def prepare_data(data):\n",
        "    data = data[['Close']].copy()\n",
        "    data['Day'] = np.arange(len(data))\n",
        "    return data.dropna()\n",
        "\n",
        "def train_model(data):\n",
        "    X = data[['Day']].values\n",
        "    y = data['Close'].values\n",
        "    model = LinearRegression()\n",
        "    model.fit(X, y)\n",
        "    return model\n",
        "\n",
        "def predict_next_day_price(model, last_day):\n",
        "    next_day = np.array([[last_day + 1]])\n",
        "    predicted_price = model.predict(next_day)\n",
        "    return float(predicted_price[0])\n",
        "\n",
        "def main():\n",
        "    while True:\n",
        "        stock_name = input(\"Enter Indian stock symbol (e.g., RELIANCE, TCS, INFY): \").upper()\n",
        "        ticker = stock_name + \".NS\"\n",
        "        print(f\"Fetching data for {ticker}...\")\n",
        "\n",
        "        data = get_stock_data(ticker)\n",
        "\n",
        "        if data.empty:\n",
        "            print(\"Failed to fetch data. Check ticker symbol or internet connection.\")\n",
        "        else:\n",
        "            current_price = float(data['Close'].iloc[-1])\n",
        "            current_date = data.index[-1].strftime('%d-%m-%Y')\n",
        "            print(f\"Current closing price for {ticker} on {current_date} is: ₹{current_price:.2f}\")\n",
        "\n",
        "            data_prepared = prepare_data(data)\n",
        "            model = train_model(data_prepared)\n",
        "\n",
        "            last_day = data_prepared['Day'].iloc[-1]\n",
        "            predicted_price = predict_next_day_price(model, last_day)\n",
        "\n",
        "            next_date = (data.index[-1] + datetime.timedelta(days=1)).strftime('%d-%m-%Y')\n",
        "            print(f\"Predicted closing price for {ticker} on {next_date} is: ₹{predicted_price:.2f}\")\n",
        "\n",
        "        repeat = input(\"\\nDo you want to predict another stock? (yes/no): \").strip().lower()\n",
        "        if repeat != 'yes':\n",
        "            print(\"Exiting program. Goodbye!\")\n",
        "            break\n",
        "\n",
        "if __name__ == \"__main__\":\n",
        "    main()\n"
      ]
    },
    {
      "cell_type": "code",
      "execution_count": null,
      "metadata": {
        "colab": {
          "base_uri": "https://localhost:8080/"
        },
        "id": "Jw6P9Tm52GZ2",
        "outputId": "c3e023c8-bfad-4d0a-abb5-d9ec0bf47fae"
      },
      "outputs": [
        {
          "name": "stdout",
          "output_type": "stream",
          "text": [
            "Enter Indian stock symbol (e.g., RELIANCE, TCS, INFY): tcs\n"
          ]
        },
        {
          "name": "stderr",
          "output_type": "stream",
          "text": [
            "\r[*********************100%***********************]  1 of 1 completed"
          ]
        },
        {
          "name": "stdout",
          "output_type": "stream",
          "text": [
            "Fetching data for TCS.NS...\n",
            "Predicted closing price for TCS.NS on 2025-05-30 is: ₹3635.78\n"
          ]
        },
        {
          "name": "stderr",
          "output_type": "stream",
          "text": [
            "\n",
            "<ipython-input-37-fa394943a7df>:25: DeprecationWarning: Conversion of an array with ndim > 0 to a scalar is deprecated, and will error in future. Ensure you extract a single element from your array before performing this operation. (Deprecated NumPy 1.25.)\n",
            "  return float(predicted_price[0])  # Explicit float conversion\n"
          ]
        }
      ],
      "source": [
        "# import yfinance as yf\n",
        "# import numpy as np\n",
        "# from sklearn.linear_model import LinearRegression\n",
        "# import datetime\n",
        "\n",
        "# def get_stock_data(ticker):\n",
        "#     data = yf.download(ticker, period=\"1y\")\n",
        "#     return data\n",
        "\n",
        "# def prepare_data(data):\n",
        "#     data = data[['Close']].copy()\n",
        "#     data['Day'] = np.arange(len(data))\n",
        "#     return data.dropna()\n",
        "\n",
        "# def train_model(data):\n",
        "#     X = data[['Day']].values\n",
        "#     y = data['Close'].values\n",
        "#     model = LinearRegression()\n",
        "#     model.fit(X, y)\n",
        "#     return model\n",
        "\n",
        "# def predict_next_day_price(model, last_day):\n",
        "#     next_day = np.array([[last_day + 1]])\n",
        "#     predicted_price = model.predict(next_day)\n",
        "#     return float(predicted_price[0])  # Explicit float conversion\n",
        "\n",
        "# def main():\n",
        "#     stock_name = input(\"Enter Indian stock symbol (e.g., RELIANCE, TCS, INFY): \").upper()\n",
        "#     ticker = stock_name + \".NS\"\n",
        "#     print(f\"Fetching data for {ticker}...\")\n",
        "\n",
        "#     data = get_stock_data(ticker)\n",
        "\n",
        "#     if data.empty:\n",
        "#         print(\"Failed to fetch data. Check ticker symbol.\")\n",
        "#         return\n",
        "\n",
        "#     data_prepared = prepare_data(data)\n",
        "#     model = train_model(data_prepared)\n",
        "\n",
        "#     last_day = data_prepared['Day'].iloc[-1]\n",
        "#     predicted_price = predict_next_day_price(model, last_day)\n",
        "\n",
        "#     next_date = data.index[-1] + datetime.timedelta(days=1)\n",
        "#     print(f\"Predicted closing price for {ticker} on {next_date.date()} is: ₹{predicted_price:.2f}\")\n",
        "\n",
        "# if __name__ == \"__main__\":\n",
        "#     main()\n"
      ]
    },
    {
      "cell_type": "code",
      "execution_count": null,
      "metadata": {
        "colab": {
          "base_uri": "https://localhost:8080/",
          "height": 783
        },
        "id": "5mxYfFxGEvGt",
        "outputId": "6e9b7589-f669-4cb7-d364-22ddc567ecc8"
      },
      "outputs": [
        {
          "name": "stdout",
          "output_type": "stream",
          "text": [
            "Enter Indian stock symbol (e.g., RELIANCE, TCS, INFY): TCS\n"
          ]
        },
        {
          "name": "stderr",
          "output_type": "stream",
          "text": [
            "\r[*********************100%***********************]  1 of 1 completed"
          ]
        },
        {
          "name": "stdout",
          "output_type": "stream",
          "text": [
            "Fetching data for TCS.NS...\n",
            "Current closing price for TCS.NS on 29-05-25 is: ₹3498.10\n",
            "Predicted closing price for TCS.NS on 30-05-25 is: ₹3447.06\n"
          ]
        },
        {
          "name": "stderr",
          "output_type": "stream",
          "text": [
            "\n",
            "<ipython-input-3-b9b765e0f698>:59: FutureWarning: Calling float on a single element Series is deprecated and will raise a TypeError in the future. Use float(ser.iloc[0]) instead\n",
            "  current_price = float(data['Close'].iloc[-1])\n",
            "<ipython-input-3-b9b765e0f698>:31: DeprecationWarning: Conversion of an array with ndim > 0 to a scalar is deprecated, and will error in future. Ensure you extract a single element from your array before performing this operation. (Deprecated NumPy 1.25.)\n",
            "  return float(predicted_price[0])\n"
          ]
        },
        {
          "data": {
            "image/png": "[encoded data removed]",
            "text/plain": [
              "<Figure size 1000x600 with 1 Axes>"
            ]
          },
          "metadata": {},
          "output_type": "display_data"
        }
      ],
      "source": [
        "# import yfinance as yf\n",
        "# import numpy as np\n",
        "# import pandas as pd\n",
        "# from sklearn.linear_model import LinearRegression\n",
        "# import matplotlib.pyplot as plt\n",
        "# import datetime\n",
        "\n",
        "# def fetch_data(ticker):\n",
        "#     ticker_full = ticker.upper() + \".NS\"\n",
        "#     print(f\"Fetching data for {ticker_full}...\")\n",
        "#     data = yf.download(ticker_full, period=\"60d\")\n",
        "#     if data.empty:\n",
        "#         raise ValueError(\"No data found for this ticker.\")\n",
        "#     return data, ticker_full\n",
        "\n",
        "# def prepare_data(data):\n",
        "#     data = data.copy()\n",
        "#     data['Day'] = np.arange(len(data))\n",
        "#     X = data[['Day']]\n",
        "#     y = data['Close']\n",
        "#     return X, y\n",
        "\n",
        "# def train_model(X, y):\n",
        "#     model = LinearRegression()\n",
        "#     model.fit(X, y)\n",
        "#     return model\n",
        "\n",
        "# def predict_next_day(model, data):\n",
        "#     next_day_num = len(data)\n",
        "#     predicted_price = model.predict(np.array([[next_day_num]]))\n",
        "#     return float(predicted_price[0])\n",
        "\n",
        "# def plot_graph(data, y, predicted_price, ticker_full):\n",
        "#     plt.figure(figsize=(10, 6))\n",
        "\n",
        "#     # last 6 days for plotting\n",
        "#     data_last6 = data[-6:]\n",
        "#     y_last6 = y[-6:]\n",
        "#     dates_last6 = data_last6.index.strftime('%d-%m-%y')\n",
        "\n",
        "#     plt.plot(dates_last6, y_last6, label=\"Actual Price\", color='blue')\n",
        "\n",
        "#     next_date = (data.index[-1] + datetime.timedelta(days=1)).strftime('%d-%m-%y')\n",
        "#     plt.plot(next_date, predicted_price, 'ro', label=\"Predicted Price\")\n",
        "\n",
        "#     plt.title(f\"{ticker_full} - Closing Prices (Last 6 Days) with Tomorrow's Prediction\")\n",
        "#     plt.xlabel(\"Date (dd-mm-yy)\")\n",
        "#     plt.ylabel(\"Closing Price (₹)\")\n",
        "#     plt.xticks(rotation=45)\n",
        "#     plt.grid(True)\n",
        "#     plt.legend()\n",
        "#     plt.tight_layout()\n",
        "#     plt.show()\n",
        "\n",
        "# def main():\n",
        "#     ticker = input(\"Enter Indian stock symbol (e.g., RELIANCE, TCS, INFY): \").strip()\n",
        "#     data, ticker_full = fetch_data(ticker)\n",
        "\n",
        "#     current_price = float(data['Close'].iloc[-1])\n",
        "#     current_date = data.index[-1].strftime('%d-%m-%y')\n",
        "#     print(f\"Current closing price for {ticker_full} on {current_date} is: ₹{current_price:.2f}\")\n",
        "\n",
        "#     X, y = prepare_data(data)\n",
        "#     model = train_model(X, y)\n",
        "#     predicted_price = predict_next_day(model, data)\n",
        "\n",
        "#     next_date = (data.index[-1] + datetime.timedelta(days=1)).strftime('%d-%m-%y')\n",
        "#     print(f\"Predicted closing price for {ticker_full} on {next_date} is: ₹{predicted_price:.2f}\")\n",
        "\n",
        "#     plot_graph(data, y, predicted_price, ticker_full)\n",
        "\n",
        "# if __name__ == \"__main__\":\n",
        "#     main()"
      ]
    }
  ],
  "metadata": {
    "colab": {
      "provenance": [],
      "include_colab_link": true
    },
    "kernelspec": {
      "display_name": "Python 3",
      "name": "python3"
    },
    "language_info": {
      "name": "python"
    }
  },
  "nbformat": 4,
  "nbformat_minor": 0
}